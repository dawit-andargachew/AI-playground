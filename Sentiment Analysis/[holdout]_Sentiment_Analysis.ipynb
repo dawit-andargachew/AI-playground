{
  "cells": [
    {
      "cell_type": "markdown",
      "metadata": {
        "id": "view-in-github",
        "colab_type": "text"
      },
      "source": [
        "<a href=\"https://colab.research.google.com/github/dawit-andargachew/AI-playground/blob/main/Sentiment%20Analysis/%5Bholdout%5D_Sentiment_Analysis.ipynb\" target=\"_parent\"><img src=\"https://colab.research.google.com/assets/colab-badge.svg\" alt=\"Open In Colab\"/></a>"
      ]
    },
    {
      "cell_type": "markdown",
      "metadata": {
        "id": "LxwU3b4jNe88"
      },
      "source": [
        "#Sentiment Analysis\n",
        "\n",
        "The dataset is described here: https://www.aclweb.org/anthology/P04-1035.pdf\n",
        "\n",
        "It is part of nltk, so it is convenient for us to use.\n",
        "\n",
        "The goal of this exercise is to build a first machine learning model using the tools that we have seen so far: choose how to preprocess the text, create a bag of words feature representation, train a model using an ML method of your choice.\n",
        "\n",
        "You need to use the following split for the data:\n",
        "\n",
        "*   test: 30% of the documents\n",
        "*   The rest of the documents will be split as\n",
        "    *   train: 75% of the documents\n",
        "    *   validation: 25% of the documents\n",
        "\n",
        "\n",
        "Use accuracy as evaluation measure."
      ]
    },
    {
      "cell_type": "code",
      "execution_count": 1,
      "metadata": {
        "id": "mloaRMsPWg0I"
      },
      "outputs": [],
      "source": [
        "import numpy as np\n",
        "import matplotlib.pyplot as plt\n",
        "\n",
        "from sklearn.linear_model import LogisticRegression\n",
        "from sklearn.metrics import accuracy_score"
      ]
    },
    {
      "cell_type": "code",
      "execution_count": 2,
      "metadata": {
        "colab": {
          "base_uri": "https://localhost:8080/"
        },
        "id": "2VZ9ywJrtGAb",
        "outputId": "f5fe80d0-b235-4bd4-f6f1-c514e9904683"
      },
      "outputs": [
        {
          "output_type": "stream",
          "name": "stdout",
          "text": [
            "Collecting en-core-web-sm==3.8.0\n",
            "  Downloading https://github.com/explosion/spacy-models/releases/download/en_core_web_sm-3.8.0/en_core_web_sm-3.8.0-py3-none-any.whl (12.8 MB)\n",
            "\u001b[2K     \u001b[90m━━━━━━━━━━━━━━━━━━━━━━━━━━━━━━━━━━━━━━━━\u001b[0m \u001b[32m12.8/12.8 MB\u001b[0m \u001b[31m82.7 MB/s\u001b[0m eta \u001b[36m0:00:00\u001b[0m\n",
            "\u001b[?25h\u001b[38;5;2m✔ Download and installation successful\u001b[0m\n",
            "You can now load the package via spacy.load('en_core_web_sm')\n",
            "\u001b[38;5;3m⚠ Restart to reload dependencies\u001b[0m\n",
            "If you are in a Jupyter or Colab notebook, you may need to restart Python in\n",
            "order to load all the package's dependencies. You can do this by selecting the\n",
            "'Restart kernel' or 'Restart runtime' option.\n"
          ]
        }
      ],
      "source": [
        "!python -m spacy download \"en_core_web_sm\""
      ]
    },
    {
      "cell_type": "code",
      "execution_count": 3,
      "metadata": {
        "colab": {
          "base_uri": "https://localhost:8080/"
        },
        "id": "EVI9mm47Du9z",
        "outputId": "d319f9eb-ebe8-48e4-87da-91fc51ed8c9a"
      },
      "outputs": [
        {
          "output_type": "stream",
          "name": "stderr",
          "text": [
            "[nltk_data] Downloading package movie_reviews to /root/nltk_data...\n",
            "[nltk_data]   Unzipping corpora/movie_reviews.zip.\n",
            "[nltk_data] Downloading package punkt to /root/nltk_data...\n",
            "[nltk_data]   Unzipping tokenizers/punkt.zip.\n"
          ]
        },
        {
          "output_type": "execute_result",
          "data": {
            "text/plain": [
              "True"
            ]
          },
          "metadata": {},
          "execution_count": 3
        }
      ],
      "source": [
        "import nltk\n",
        "nltk.download('movie_reviews') # loads the dataset\n",
        "nltk.download('punkt')\n",
        "#!python -m spacy download \"en_core_web_sm\"\n"
      ]
    },
    {
      "cell_type": "markdown",
      "metadata": {
        "id": "zplVPbgmclWr"
      },
      "source": [
        "## Loading the Data\n",
        "\n",
        "This section loads the movie review dataset. Each review can be accessed in two formats:\n",
        "\n",
        "1. **Raw Text:** `movie_reviews.raw()` returns each review as a single string.\n",
        "2. **Tokenized Text:** `movie_reviews.words()` returns each review as a list of individual words (tokens).\n",
        "\n",
        "Feel free to use whichever best fit your needs."
      ]
    },
    {
      "cell_type": "code",
      "execution_count": 4,
      "metadata": {
        "colab": {
          "base_uri": "https://localhost:8080/"
        },
        "collapsed": true,
        "id": "-y8LNMr-JdeJ",
        "outputId": "c4ff9393-b019-4812-ad5a-80ed472bdc62"
      },
      "outputs": [
        {
          "output_type": "stream",
          "name": "stdout",
          "text": [
            "number of docs loaded: 2000\n",
            "plot : two teen couples go to a church party , drink and then drive . \n",
            "they get into an accident . \n",
            "one of the guys dies , but his girlfriend continues to see him in her life , and has nightmares . \n",
            "what's the deal ? \n",
            "watch the movie and \" sorta \" find out . . . \n",
            "critique : a mind-fuck movie for the teen generation that touches on a very cool idea , but presents it in a very bad package . \n",
            "which is what makes this review an even harder one to write , since i generally applaud films which attempt to break the mold , mess with your head and such ( lost highway & memento ) , but there are good and bad ways of making all types of films , and these folks just didn't snag this one correctly . \n",
            "they seem to have taken this pretty neat concept , but executed it terribly . \n",
            "so what are the problems with the movie ? \n",
            "well , its main problem is that it's simply too jumbled . \n",
            "it starts off \" normal \" but then downshifts into this \" fantasy \" world in which you , as an audience member , have no idea what's going on . \n",
            "there are dreams , there are characters coming back from the dead , there are others who look like the dead , there are strange apparitions , there are disappearances , there are a looooot of chase scenes , there are tons of weird things that happen , and most of it is simply not explained . \n",
            "now i personally don't mind trying to unravel a film every now and then , but when all it does is give me the same clue over and over again , i get kind of fed up after a while , which is this film's biggest problem . \n",
            "it's obviously got this big secret to hide , but it seems to want to hide it completely until its final five minutes . \n",
            "and do they make things entertaining , thrilling or even engaging , in the meantime ? \n",
            "not really . \n",
            "the sad part is that the arrow and i both dig on flicks like this , so we actually figured most of it out by the half-way point , so all of the strangeness after that did start to make a little bit of sense , but it still didn't the make the film all that more entertaining . \n",
            "i guess the bottom line with movies like this is that you should always make sure that the audience is \" into it \" even before they are given the secret password to enter your world of understanding . \n",
            "i mean , showing melissa sagemiller running away from visions for about 20 minutes throughout the movie is just plain lazy ! ! \n",
            "okay , we get it . . . there \n",
            "are people chasing her and we don't know who they are . \n",
            "do we really need to see it over and over again ? \n",
            "how about giving us different scenes offering further insight into all of the strangeness going down in the movie ? \n",
            "apparently , the studio took this film away from its director and chopped it up themselves , and it shows . \n",
            "there might've been a pretty decent teen mind-fuck movie in here somewhere , but i guess \" the suits \" decided that turning it into a music video with little edge , would make more sense . \n",
            "the actors are pretty good for the most part , although wes bentley just seemed to be playing the exact same character that he did in american beauty , only in a new neighborhood . \n",
            "but my biggest kudos go out to sagemiller , who holds her own throughout the entire film , and actually has you feeling her character's unraveling . \n",
            "overall , the film doesn't stick because it doesn't entertain , it's confusing , it rarely excites and it feels pretty redundant for most of its runtime , despite a pretty cool ending and explanation to all of the craziness that came before it . \n",
            "oh , and by the way , this is not a horror or teen slasher flick . . . it's \n",
            "just packaged to look that way because someone is apparently assuming that the genre is still hot with the kids . \n",
            "it also wrapped production two years ago and has been sitting on the shelves ever since . \n",
            "whatever . . . skip \n",
            "it ! \n",
            "where's joblo coming from ? \n",
            "a nightmare of elm street 3 ( 7/10 ) - blair witch 2 ( 7/10 ) - the crow ( 9/10 ) - the crow : salvation ( 4/10 ) - lost highway ( 10/10 ) - memento ( 10/10 ) - the others ( 9/10 ) - stir of echoes ( 8/10 ) \n",
            "\n",
            "neg\n"
          ]
        }
      ],
      "source": [
        "from nltk.corpus import movie_reviews\n",
        "import random\n",
        "import spacy\n",
        "from scipy.sparse import coo_matrix, vstack\n",
        "import matplotlib.pyplot as plt\n",
        "from sklearn.linear_model import LogisticRegression\n",
        "from sklearn.feature_extraction.text import CountVectorizer\n",
        "from sklearn.model_selection import train_test_split\n",
        "from sklearn.feature_extraction.text import CountVectorizer\n",
        "\n",
        "nlp_en = spacy.load(\"en_core_web_sm\", disable=['ner', 'parser'])\n",
        "\n",
        "documents = [(movie_reviews.raw(fileid), category)\n",
        "              for category in movie_reviews.categories()\n",
        "              for fileid in movie_reviews.fileids(category)]\n",
        "\n",
        "print(\"number of docs loaded:\", len(documents))\n",
        "\n",
        "corpus = [ x[0] for x in documents ] # the list of text\n",
        "y_corpus = [ x[1] for x in documents ] # teh corresponding lables - the sentiment for each text\n",
        "print(corpus[0])\n",
        "print(y_corpus[0])\n",
        "\n",
        "random.seed(42)\n"
      ]
    },
    {
      "cell_type": "markdown",
      "metadata": {
        "id": "SMBhcMfLuxrl"
      },
      "source": [
        "## Exercise\n",
        "\n",
        "Create a vectorial representation of the data, then apply a learning algorithm by optimising the hyperparameters on the dev set. If you need to use any function that depends on random number generators, use 42 as seed.\n",
        "Test several representations. You may try functions of the libraries we have seen in class or make your own vectorial representation from scratch.\n",
        "Once you have selected the best hyperparameters and preprocessing, retrain your model on the union of the training and validation sets, then compute the accuracy on the test set.\n",
        "\n",
        "Report your test performance on Moodle. In Moodle you are also supposed to upload the notebook in .py format (Menu File->Download->Download .py)\n",
        "In the file with your code motivate any significant choice you made and all different preprocessing you attempted (clearly highlight the best one, though).\n",
        "\n",
        "**Bonus Exercise** for your best model, print the 30 tokens whose corresponding parameter have highest absolute value. What do you think of this list? Does it make sense? Are all tokens expected?\n"
      ]
    },
    {
      "cell_type": "markdown",
      "metadata": {
        "id": "60nbmv1bxoNQ"
      },
      "source": [
        "## Data Preprocessing\n",
        "\n",
        "This stage prepares the movie review data for machine learning.\n",
        "\n",
        "- Split the data before vectorization – Ensures the model doesn’t see test data during training, preventing data leakage.\n",
        "\n",
        "- Prepare the training data – Tokenize the text using spaCy, converting it into a structured format for vectorization."
      ]
    },
    {
      "cell_type": "code",
      "execution_count": 5,
      "metadata": {
        "colab": {
          "base_uri": "https://localhost:8080/"
        },
        "id": "2xYyA3Qvxj28",
        "outputId": "2ecf77d4-9430-4bc8-9e31-280bd382c886"
      },
      "outputs": [
        {
          "output_type": "stream",
          "name": "stderr",
          "text": [
            "/usr/local/lib/python3.11/dist-packages/sklearn/feature_extraction/text.py:517: UserWarning: The parameter 'token_pattern' will not be used since 'tokenizer' is not None'\n",
            "  warnings.warn(\n"
          ]
        },
        {
          "output_type": "stream",
          "name": "stdout",
          "text": [
            "Vocabulary size: 34814\n",
            "Train shape: (1400, 34814)\n",
            "Test shape: (600, 34814)\n"
          ]
        }
      ],
      "source": [
        "# Preprocessing\n",
        "\n",
        "# Load NLP model\n",
        "nlp_en = spacy.load(\"en_core_web_sm\", disable=['ner', 'parser'])\n",
        "\n",
        "# Define a custom tokenizer using spacy\n",
        "def spacy_tokenizer(text):\n",
        "    return [token.text for token in nlp_en(text)]\n",
        "\n",
        "# Split data before vectorization to prevent data leakage and ensure an unbiased vocabulary.\n",
        "X_train_corpus, X_test_corpus, y_train, y_test = train_test_split(\n",
        "    corpus, y_corpus, train_size=0.70, random_state=42\n",
        ")\n",
        "\n",
        "# Initialize CountVectorizer with the custom tokenizer\n",
        "vectorizer = CountVectorizer(binary=False, tokenizer=spacy_tokenizer)\n",
        "\n",
        "# Fit vectorizer on the training data\n",
        "vectorizer.fit(X_train_corpus)\n",
        "\n",
        "# Convert train and test data into numerical form\n",
        "X_train = vectorizer.transform(X_train_corpus)\n",
        "X_test = vectorizer.transform(X_test_corpus)\n",
        "\n",
        "# Print summary statistics\n",
        "print(\"Vocabulary size:\", len(vectorizer.get_feature_names_out()))\n",
        "print(\"Train shape:\", X_train.shape)\n",
        "print(\"Test shape:\", X_test.shape)"
      ]
    },
    {
      "cell_type": "markdown",
      "source": [
        "### Stage 2: Model Training\n",
        "\n",
        "Split the training data, keeping a validation set for later evaluation. Then, train a Logistic Regression model with a high iteration limit to ensure proper convergence.\n",
        "\n",
        "\n",
        "- Split the Data – Keep 75% for training, 25% for validation.\n",
        "\n",
        "- Train the Model – Fit Logistic Regression with a high iteration limit ( with max_iter=100_000)."
      ],
      "metadata": {
        "id": "8omhZg2j8S2S"
      }
    },
    {
      "cell_type": "code",
      "source": [
        "# Model training phase\n",
        "\n",
        "# Split the training data into training (75%) and validation (25%) sets\n",
        "X_train, X_validation, y_train, y_validation = train_test_split(X_train, y_train, train_size = 0.75, random_state=42) # split 75%\n",
        "\n",
        "y_train = np.array(y_train)\n",
        "y_validation = np.array(y_validation)\n",
        "\n",
        "# Initialize logistic regression model\n",
        "clf_lr = LogisticRegression(max_iter=100_000)\n",
        "\n",
        "# Train the model on the training set\n",
        "clf_lr.fit(X_train, y_train)"
      ],
      "metadata": {
        "id": "d4njzWLs_BRB",
        "outputId": "e29ed347-e052-4c4a-ca6e-17bd665d545e",
        "colab": {
          "base_uri": "https://localhost:8080/",
          "height": 80
        }
      },
      "execution_count": 6,
      "outputs": [
        {
          "output_type": "execute_result",
          "data": {
            "text/plain": [
              "LogisticRegression(max_iter=100000)"
            ],
            "text/html": [
              "<style>#sk-container-id-1 {\n",
              "  /* Definition of color scheme common for light and dark mode */\n",
              "  --sklearn-color-text: #000;\n",
              "  --sklearn-color-text-muted: #666;\n",
              "  --sklearn-color-line: gray;\n",
              "  /* Definition of color scheme for unfitted estimators */\n",
              "  --sklearn-color-unfitted-level-0: #fff5e6;\n",
              "  --sklearn-color-unfitted-level-1: #f6e4d2;\n",
              "  --sklearn-color-unfitted-level-2: #ffe0b3;\n",
              "  --sklearn-color-unfitted-level-3: chocolate;\n",
              "  /* Definition of color scheme for fitted estimators */\n",
              "  --sklearn-color-fitted-level-0: #f0f8ff;\n",
              "  --sklearn-color-fitted-level-1: #d4ebff;\n",
              "  --sklearn-color-fitted-level-2: #b3dbfd;\n",
              "  --sklearn-color-fitted-level-3: cornflowerblue;\n",
              "\n",
              "  /* Specific color for light theme */\n",
              "  --sklearn-color-text-on-default-background: var(--sg-text-color, var(--theme-code-foreground, var(--jp-content-font-color1, black)));\n",
              "  --sklearn-color-background: var(--sg-background-color, var(--theme-background, var(--jp-layout-color0, white)));\n",
              "  --sklearn-color-border-box: var(--sg-text-color, var(--theme-code-foreground, var(--jp-content-font-color1, black)));\n",
              "  --sklearn-color-icon: #696969;\n",
              "\n",
              "  @media (prefers-color-scheme: dark) {\n",
              "    /* Redefinition of color scheme for dark theme */\n",
              "    --sklearn-color-text-on-default-background: var(--sg-text-color, var(--theme-code-foreground, var(--jp-content-font-color1, white)));\n",
              "    --sklearn-color-background: var(--sg-background-color, var(--theme-background, var(--jp-layout-color0, #111)));\n",
              "    --sklearn-color-border-box: var(--sg-text-color, var(--theme-code-foreground, var(--jp-content-font-color1, white)));\n",
              "    --sklearn-color-icon: #878787;\n",
              "  }\n",
              "}\n",
              "\n",
              "#sk-container-id-1 {\n",
              "  color: var(--sklearn-color-text);\n",
              "}\n",
              "\n",
              "#sk-container-id-1 pre {\n",
              "  padding: 0;\n",
              "}\n",
              "\n",
              "#sk-container-id-1 input.sk-hidden--visually {\n",
              "  border: 0;\n",
              "  clip: rect(1px 1px 1px 1px);\n",
              "  clip: rect(1px, 1px, 1px, 1px);\n",
              "  height: 1px;\n",
              "  margin: -1px;\n",
              "  overflow: hidden;\n",
              "  padding: 0;\n",
              "  position: absolute;\n",
              "  width: 1px;\n",
              "}\n",
              "\n",
              "#sk-container-id-1 div.sk-dashed-wrapped {\n",
              "  border: 1px dashed var(--sklearn-color-line);\n",
              "  margin: 0 0.4em 0.5em 0.4em;\n",
              "  box-sizing: border-box;\n",
              "  padding-bottom: 0.4em;\n",
              "  background-color: var(--sklearn-color-background);\n",
              "}\n",
              "\n",
              "#sk-container-id-1 div.sk-container {\n",
              "  /* jupyter's `normalize.less` sets `[hidden] { display: none; }`\n",
              "     but bootstrap.min.css set `[hidden] { display: none !important; }`\n",
              "     so we also need the `!important` here to be able to override the\n",
              "     default hidden behavior on the sphinx rendered scikit-learn.org.\n",
              "     See: https://github.com/scikit-learn/scikit-learn/issues/21755 */\n",
              "  display: inline-block !important;\n",
              "  position: relative;\n",
              "}\n",
              "\n",
              "#sk-container-id-1 div.sk-text-repr-fallback {\n",
              "  display: none;\n",
              "}\n",
              "\n",
              "div.sk-parallel-item,\n",
              "div.sk-serial,\n",
              "div.sk-item {\n",
              "  /* draw centered vertical line to link estimators */\n",
              "  background-image: linear-gradient(var(--sklearn-color-text-on-default-background), var(--sklearn-color-text-on-default-background));\n",
              "  background-size: 2px 100%;\n",
              "  background-repeat: no-repeat;\n",
              "  background-position: center center;\n",
              "}\n",
              "\n",
              "/* Parallel-specific style estimator block */\n",
              "\n",
              "#sk-container-id-1 div.sk-parallel-item::after {\n",
              "  content: \"\";\n",
              "  width: 100%;\n",
              "  border-bottom: 2px solid var(--sklearn-color-text-on-default-background);\n",
              "  flex-grow: 1;\n",
              "}\n",
              "\n",
              "#sk-container-id-1 div.sk-parallel {\n",
              "  display: flex;\n",
              "  align-items: stretch;\n",
              "  justify-content: center;\n",
              "  background-color: var(--sklearn-color-background);\n",
              "  position: relative;\n",
              "}\n",
              "\n",
              "#sk-container-id-1 div.sk-parallel-item {\n",
              "  display: flex;\n",
              "  flex-direction: column;\n",
              "}\n",
              "\n",
              "#sk-container-id-1 div.sk-parallel-item:first-child::after {\n",
              "  align-self: flex-end;\n",
              "  width: 50%;\n",
              "}\n",
              "\n",
              "#sk-container-id-1 div.sk-parallel-item:last-child::after {\n",
              "  align-self: flex-start;\n",
              "  width: 50%;\n",
              "}\n",
              "\n",
              "#sk-container-id-1 div.sk-parallel-item:only-child::after {\n",
              "  width: 0;\n",
              "}\n",
              "\n",
              "/* Serial-specific style estimator block */\n",
              "\n",
              "#sk-container-id-1 div.sk-serial {\n",
              "  display: flex;\n",
              "  flex-direction: column;\n",
              "  align-items: center;\n",
              "  background-color: var(--sklearn-color-background);\n",
              "  padding-right: 1em;\n",
              "  padding-left: 1em;\n",
              "}\n",
              "\n",
              "\n",
              "/* Toggleable style: style used for estimator/Pipeline/ColumnTransformer box that is\n",
              "clickable and can be expanded/collapsed.\n",
              "- Pipeline and ColumnTransformer use this feature and define the default style\n",
              "- Estimators will overwrite some part of the style using the `sk-estimator` class\n",
              "*/\n",
              "\n",
              "/* Pipeline and ColumnTransformer style (default) */\n",
              "\n",
              "#sk-container-id-1 div.sk-toggleable {\n",
              "  /* Default theme specific background. It is overwritten whether we have a\n",
              "  specific estimator or a Pipeline/ColumnTransformer */\n",
              "  background-color: var(--sklearn-color-background);\n",
              "}\n",
              "\n",
              "/* Toggleable label */\n",
              "#sk-container-id-1 label.sk-toggleable__label {\n",
              "  cursor: pointer;\n",
              "  display: flex;\n",
              "  width: 100%;\n",
              "  margin-bottom: 0;\n",
              "  padding: 0.5em;\n",
              "  box-sizing: border-box;\n",
              "  text-align: center;\n",
              "  align-items: start;\n",
              "  justify-content: space-between;\n",
              "  gap: 0.5em;\n",
              "}\n",
              "\n",
              "#sk-container-id-1 label.sk-toggleable__label .caption {\n",
              "  font-size: 0.6rem;\n",
              "  font-weight: lighter;\n",
              "  color: var(--sklearn-color-text-muted);\n",
              "}\n",
              "\n",
              "#sk-container-id-1 label.sk-toggleable__label-arrow:before {\n",
              "  /* Arrow on the left of the label */\n",
              "  content: \"▸\";\n",
              "  float: left;\n",
              "  margin-right: 0.25em;\n",
              "  color: var(--sklearn-color-icon);\n",
              "}\n",
              "\n",
              "#sk-container-id-1 label.sk-toggleable__label-arrow:hover:before {\n",
              "  color: var(--sklearn-color-text);\n",
              "}\n",
              "\n",
              "/* Toggleable content - dropdown */\n",
              "\n",
              "#sk-container-id-1 div.sk-toggleable__content {\n",
              "  max-height: 0;\n",
              "  max-width: 0;\n",
              "  overflow: hidden;\n",
              "  text-align: left;\n",
              "  /* unfitted */\n",
              "  background-color: var(--sklearn-color-unfitted-level-0);\n",
              "}\n",
              "\n",
              "#sk-container-id-1 div.sk-toggleable__content.fitted {\n",
              "  /* fitted */\n",
              "  background-color: var(--sklearn-color-fitted-level-0);\n",
              "}\n",
              "\n",
              "#sk-container-id-1 div.sk-toggleable__content pre {\n",
              "  margin: 0.2em;\n",
              "  border-radius: 0.25em;\n",
              "  color: var(--sklearn-color-text);\n",
              "  /* unfitted */\n",
              "  background-color: var(--sklearn-color-unfitted-level-0);\n",
              "}\n",
              "\n",
              "#sk-container-id-1 div.sk-toggleable__content.fitted pre {\n",
              "  /* unfitted */\n",
              "  background-color: var(--sklearn-color-fitted-level-0);\n",
              "}\n",
              "\n",
              "#sk-container-id-1 input.sk-toggleable__control:checked~div.sk-toggleable__content {\n",
              "  /* Expand drop-down */\n",
              "  max-height: 200px;\n",
              "  max-width: 100%;\n",
              "  overflow: auto;\n",
              "}\n",
              "\n",
              "#sk-container-id-1 input.sk-toggleable__control:checked~label.sk-toggleable__label-arrow:before {\n",
              "  content: \"▾\";\n",
              "}\n",
              "\n",
              "/* Pipeline/ColumnTransformer-specific style */\n",
              "\n",
              "#sk-container-id-1 div.sk-label input.sk-toggleable__control:checked~label.sk-toggleable__label {\n",
              "  color: var(--sklearn-color-text);\n",
              "  background-color: var(--sklearn-color-unfitted-level-2);\n",
              "}\n",
              "\n",
              "#sk-container-id-1 div.sk-label.fitted input.sk-toggleable__control:checked~label.sk-toggleable__label {\n",
              "  background-color: var(--sklearn-color-fitted-level-2);\n",
              "}\n",
              "\n",
              "/* Estimator-specific style */\n",
              "\n",
              "/* Colorize estimator box */\n",
              "#sk-container-id-1 div.sk-estimator input.sk-toggleable__control:checked~label.sk-toggleable__label {\n",
              "  /* unfitted */\n",
              "  background-color: var(--sklearn-color-unfitted-level-2);\n",
              "}\n",
              "\n",
              "#sk-container-id-1 div.sk-estimator.fitted input.sk-toggleable__control:checked~label.sk-toggleable__label {\n",
              "  /* fitted */\n",
              "  background-color: var(--sklearn-color-fitted-level-2);\n",
              "}\n",
              "\n",
              "#sk-container-id-1 div.sk-label label.sk-toggleable__label,\n",
              "#sk-container-id-1 div.sk-label label {\n",
              "  /* The background is the default theme color */\n",
              "  color: var(--sklearn-color-text-on-default-background);\n",
              "}\n",
              "\n",
              "/* On hover, darken the color of the background */\n",
              "#sk-container-id-1 div.sk-label:hover label.sk-toggleable__label {\n",
              "  color: var(--sklearn-color-text);\n",
              "  background-color: var(--sklearn-color-unfitted-level-2);\n",
              "}\n",
              "\n",
              "/* Label box, darken color on hover, fitted */\n",
              "#sk-container-id-1 div.sk-label.fitted:hover label.sk-toggleable__label.fitted {\n",
              "  color: var(--sklearn-color-text);\n",
              "  background-color: var(--sklearn-color-fitted-level-2);\n",
              "}\n",
              "\n",
              "/* Estimator label */\n",
              "\n",
              "#sk-container-id-1 div.sk-label label {\n",
              "  font-family: monospace;\n",
              "  font-weight: bold;\n",
              "  display: inline-block;\n",
              "  line-height: 1.2em;\n",
              "}\n",
              "\n",
              "#sk-container-id-1 div.sk-label-container {\n",
              "  text-align: center;\n",
              "}\n",
              "\n",
              "/* Estimator-specific */\n",
              "#sk-container-id-1 div.sk-estimator {\n",
              "  font-family: monospace;\n",
              "  border: 1px dotted var(--sklearn-color-border-box);\n",
              "  border-radius: 0.25em;\n",
              "  box-sizing: border-box;\n",
              "  margin-bottom: 0.5em;\n",
              "  /* unfitted */\n",
              "  background-color: var(--sklearn-color-unfitted-level-0);\n",
              "}\n",
              "\n",
              "#sk-container-id-1 div.sk-estimator.fitted {\n",
              "  /* fitted */\n",
              "  background-color: var(--sklearn-color-fitted-level-0);\n",
              "}\n",
              "\n",
              "/* on hover */\n",
              "#sk-container-id-1 div.sk-estimator:hover {\n",
              "  /* unfitted */\n",
              "  background-color: var(--sklearn-color-unfitted-level-2);\n",
              "}\n",
              "\n",
              "#sk-container-id-1 div.sk-estimator.fitted:hover {\n",
              "  /* fitted */\n",
              "  background-color: var(--sklearn-color-fitted-level-2);\n",
              "}\n",
              "\n",
              "/* Specification for estimator info (e.g. \"i\" and \"?\") */\n",
              "\n",
              "/* Common style for \"i\" and \"?\" */\n",
              "\n",
              ".sk-estimator-doc-link,\n",
              "a:link.sk-estimator-doc-link,\n",
              "a:visited.sk-estimator-doc-link {\n",
              "  float: right;\n",
              "  font-size: smaller;\n",
              "  line-height: 1em;\n",
              "  font-family: monospace;\n",
              "  background-color: var(--sklearn-color-background);\n",
              "  border-radius: 1em;\n",
              "  height: 1em;\n",
              "  width: 1em;\n",
              "  text-decoration: none !important;\n",
              "  margin-left: 0.5em;\n",
              "  text-align: center;\n",
              "  /* unfitted */\n",
              "  border: var(--sklearn-color-unfitted-level-1) 1pt solid;\n",
              "  color: var(--sklearn-color-unfitted-level-1);\n",
              "}\n",
              "\n",
              ".sk-estimator-doc-link.fitted,\n",
              "a:link.sk-estimator-doc-link.fitted,\n",
              "a:visited.sk-estimator-doc-link.fitted {\n",
              "  /* fitted */\n",
              "  border: var(--sklearn-color-fitted-level-1) 1pt solid;\n",
              "  color: var(--sklearn-color-fitted-level-1);\n",
              "}\n",
              "\n",
              "/* On hover */\n",
              "div.sk-estimator:hover .sk-estimator-doc-link:hover,\n",
              ".sk-estimator-doc-link:hover,\n",
              "div.sk-label-container:hover .sk-estimator-doc-link:hover,\n",
              ".sk-estimator-doc-link:hover {\n",
              "  /* unfitted */\n",
              "  background-color: var(--sklearn-color-unfitted-level-3);\n",
              "  color: var(--sklearn-color-background);\n",
              "  text-decoration: none;\n",
              "}\n",
              "\n",
              "div.sk-estimator.fitted:hover .sk-estimator-doc-link.fitted:hover,\n",
              ".sk-estimator-doc-link.fitted:hover,\n",
              "div.sk-label-container:hover .sk-estimator-doc-link.fitted:hover,\n",
              ".sk-estimator-doc-link.fitted:hover {\n",
              "  /* fitted */\n",
              "  background-color: var(--sklearn-color-fitted-level-3);\n",
              "  color: var(--sklearn-color-background);\n",
              "  text-decoration: none;\n",
              "}\n",
              "\n",
              "/* Span, style for the box shown on hovering the info icon */\n",
              ".sk-estimator-doc-link span {\n",
              "  display: none;\n",
              "  z-index: 9999;\n",
              "  position: relative;\n",
              "  font-weight: normal;\n",
              "  right: .2ex;\n",
              "  padding: .5ex;\n",
              "  margin: .5ex;\n",
              "  width: min-content;\n",
              "  min-width: 20ex;\n",
              "  max-width: 50ex;\n",
              "  color: var(--sklearn-color-text);\n",
              "  box-shadow: 2pt 2pt 4pt #999;\n",
              "  /* unfitted */\n",
              "  background: var(--sklearn-color-unfitted-level-0);\n",
              "  border: .5pt solid var(--sklearn-color-unfitted-level-3);\n",
              "}\n",
              "\n",
              ".sk-estimator-doc-link.fitted span {\n",
              "  /* fitted */\n",
              "  background: var(--sklearn-color-fitted-level-0);\n",
              "  border: var(--sklearn-color-fitted-level-3);\n",
              "}\n",
              "\n",
              ".sk-estimator-doc-link:hover span {\n",
              "  display: block;\n",
              "}\n",
              "\n",
              "/* \"?\"-specific style due to the `<a>` HTML tag */\n",
              "\n",
              "#sk-container-id-1 a.estimator_doc_link {\n",
              "  float: right;\n",
              "  font-size: 1rem;\n",
              "  line-height: 1em;\n",
              "  font-family: monospace;\n",
              "  background-color: var(--sklearn-color-background);\n",
              "  border-radius: 1rem;\n",
              "  height: 1rem;\n",
              "  width: 1rem;\n",
              "  text-decoration: none;\n",
              "  /* unfitted */\n",
              "  color: var(--sklearn-color-unfitted-level-1);\n",
              "  border: var(--sklearn-color-unfitted-level-1) 1pt solid;\n",
              "}\n",
              "\n",
              "#sk-container-id-1 a.estimator_doc_link.fitted {\n",
              "  /* fitted */\n",
              "  border: var(--sklearn-color-fitted-level-1) 1pt solid;\n",
              "  color: var(--sklearn-color-fitted-level-1);\n",
              "}\n",
              "\n",
              "/* On hover */\n",
              "#sk-container-id-1 a.estimator_doc_link:hover {\n",
              "  /* unfitted */\n",
              "  background-color: var(--sklearn-color-unfitted-level-3);\n",
              "  color: var(--sklearn-color-background);\n",
              "  text-decoration: none;\n",
              "}\n",
              "\n",
              "#sk-container-id-1 a.estimator_doc_link.fitted:hover {\n",
              "  /* fitted */\n",
              "  background-color: var(--sklearn-color-fitted-level-3);\n",
              "}\n",
              "</style><div id=\"sk-container-id-1\" class=\"sk-top-container\"><div class=\"sk-text-repr-fallback\"><pre>LogisticRegression(max_iter=100000)</pre><b>In a Jupyter environment, please rerun this cell to show the HTML representation or trust the notebook. <br />On GitHub, the HTML representation is unable to render, please try loading this page with nbviewer.org.</b></div><div class=\"sk-container\" hidden><div class=\"sk-item\"><div class=\"sk-estimator fitted sk-toggleable\"><input class=\"sk-toggleable__control sk-hidden--visually\" id=\"sk-estimator-id-1\" type=\"checkbox\" checked><label for=\"sk-estimator-id-1\" class=\"sk-toggleable__label fitted sk-toggleable__label-arrow\"><div><div>LogisticRegression</div></div><div><a class=\"sk-estimator-doc-link fitted\" rel=\"noreferrer\" target=\"_blank\" href=\"https://scikit-learn.org/1.6/modules/generated/sklearn.linear_model.LogisticRegression.html\">?<span>Documentation for LogisticRegression</span></a><span class=\"sk-estimator-doc-link fitted\">i<span>Fitted</span></span></div></label><div class=\"sk-toggleable__content fitted\"><pre>LogisticRegression(max_iter=100000)</pre></div> </div></div></div></div>"
            ]
          },
          "metadata": {},
          "execution_count": 6
        }
      ]
    },
    {
      "cell_type": "markdown",
      "source": [
        "### Stage 3: Making Predictions\n",
        "\n",
        "Time to see how well the model actually performs. First, run predictions, then check accuracy—no fancy tweaks, just the raw results.\n",
        "\n",
        "1. Predict on Training Data – Use clf_lr to get predictions for X_train.\n",
        "2. Predict on Validation Set – Do the same for X_validation to test generalization."
      ],
      "metadata": {
        "id": "CiqFbdGS9IMI"
      }
    },
    {
      "cell_type": "code",
      "source": [
        "# Stage 3: Make predictions and evaluate performance on the validation set\n",
        "\n",
        "\n",
        "# Make predictions on both training and validation sets\n",
        "y_trainPrediction = clf_lr.predict(X_train)\n",
        "y_validation_Prediction = clf_lr.predict(X_validation)\n",
        "\n",
        "# Evaluate accuracy without regularization (lambda not applied)\n",
        "print(accuracy_score(y_train, y_trainPrediction))\n",
        "print(accuracy_score(y_validation, y_validation_Prediction))"
      ],
      "metadata": {
        "id": "0uOn9n9K_H2c",
        "outputId": "c588c247-8962-4a17-b93d-85678f157aa9",
        "colab": {
          "base_uri": "https://localhost:8080/"
        }
      },
      "execution_count": 8,
      "outputs": [
        {
          "output_type": "stream",
          "name": "stdout",
          "text": [
            "1.0\n",
            "0.8428571428571429\n"
          ]
        }
      ]
    },
    {
      "cell_type": "markdown",
      "source": [
        "Print the shapes of training and validation data to confirm everything lines up."
      ],
      "metadata": {
        "id": "g5S6HyyT_blo"
      }
    },
    {
      "cell_type": "code",
      "execution_count": 10,
      "metadata": {
        "id": "AO3fZnNuIxwU",
        "outputId": "1b4d69d2-5a85-4303-dc8f-fd98ed055832",
        "colab": {
          "base_uri": "https://localhost:8080/"
        }
      },
      "outputs": [
        {
          "output_type": "stream",
          "name": "stdout",
          "text": [
            "x:  (1050, 34814)\n",
            "y:  (1050,)\n",
            "x:  (350, 34814)\n",
            "y:  (1050,)\n"
          ]
        }
      ],
      "source": [
        "# print train data sizes\n",
        "print(\"x: \",X_train.shape)\n",
        "print(\"y: \",y_trainPrediction.shape)\n",
        "\n",
        "# y_hat values\n",
        "print(\"x: \", X_validation.shape)\n",
        "print(\"y: \", y_trainPrediction.shape)"
      ]
    },
    {
      "cell_type": "markdown",
      "source": [
        "### Stage 4: Training with Regularization\n",
        "\n",
        "Tuning C to control the strength of regularization—smaller values add more penalty, larger ones loosen it up. For each C, train the model, predict on both sets, and compare accuracy to see what works best."
      ],
      "metadata": {
        "id": "hwEHINQt9x26"
      }
    },
    {
      "cell_type": "code",
      "execution_count": 12,
      "metadata": {
        "id": "BXDGTabnyVVb",
        "outputId": "971a5881-b856-4e6c-c875-a3715ec741e9",
        "colab": {
          "base_uri": "https://localhost:8080/"
        }
      },
      "outputs": [
        {
          "output_type": "stream",
          "name": "stdout",
          "text": [
            "LR. C= 0.001.\tTrain ACC: 0.88\tVal Acc: 0.7542857142857143\n",
            "LR. C= 0.01.\tTrain ACC: 0.9904761904761905\tVal Acc: 0.8171428571428572\n",
            "LR. C= 0.02.\tTrain ACC: 0.9980952380952381\tVal Acc: 0.8314285714285714\n",
            "LR. C= 0.022.\tTrain ACC: 0.9980952380952381\tVal Acc: 0.8285714285714286\n",
            "LR. C= 0.024.\tTrain ACC: 1.0\tVal Acc: 0.8285714285714286\n",
            "LR. C= 0.27.\tTrain ACC: 1.0\tVal Acc: 0.8285714285714286\n",
            "LR. C= 0.03.\tTrain ACC: 1.0\tVal Acc: 0.8314285714285714\n",
            "LR. C= 0.1.\tTrain ACC: 1.0\tVal Acc: 0.8257142857142857\n",
            "LR. C= 0.9.\tTrain ACC: 1.0\tVal Acc: 0.8371428571428572\n",
            "LR. C= 0.95.\tTrain ACC: 1.0\tVal Acc: 0.8371428571428572\n",
            "LR. C= 1.\tTrain ACC: 1.0\tVal Acc: 0.8428571428571429\n",
            "LR. C= 1.02.\tTrain ACC: 1.0\tVal Acc: 0.84\n",
            "LR. C= 1.1.\tTrain ACC: 1.0\tVal Acc: 0.8371428571428572\n",
            "LR. C= 1.2.\tTrain ACC: 1.0\tVal Acc: 0.8371428571428572\n",
            "LR. C= 30.\tTrain ACC: 1.0\tVal Acc: 0.8228571428571428\n",
            "LR. C= 98.\tTrain ACC: 1.0\tVal Acc: 0.8342857142857143\n",
            "LR. C= 99.\tTrain ACC: 1.0\tVal Acc: 0.8228571428571428\n",
            "LR. C= 100.\tTrain ACC: 1.0\tVal Acc: 0.8285714285714286\n",
            "LR. C= 150.\tTrain ACC: 1.0\tVal Acc: 0.8257142857142857\n",
            "LR. C= 200.\tTrain ACC: 1.0\tVal Acc: 0.8342857142857143\n",
            "LR. C= 250.\tTrain ACC: 1.0\tVal Acc: 0.8314285714285714\n",
            "LR. C= 300.\tTrain ACC: 1.0\tVal Acc: 0.84\n",
            "LR. C= 350.\tTrain ACC: 1.0\tVal Acc: 0.8342857142857143\n",
            "LR. C= 1000.\tTrain ACC: 1.0\tVal Acc: 0.84\n",
            "LR. C= 2000.\tTrain ACC: 1.0\tVal Acc: 0.8342857142857143\n",
            "LR. C= 3000.\tTrain ACC: 1.0\tVal Acc: 0.8342857142857143\n"
          ]
        }
      ],
      "source": [
        "# Train the model with different regularization strengths (lambda)\n",
        "\n",
        "# Define a range of regularization strengths (C values) to find the best one\n",
        "C = [0.001, 0.01, 0.02, 0.022, 0.024, 0.27, 0.03, 0.1, 0.9, 0.95, 1, 1.02, 1.1, 1.2, 30, 98, 99, 100, 150, 200, 250, 300, 350, 1000, 2000, 3000]\n",
        "\n",
        "\n",
        "# Train and evaluate the model for each C value\n",
        "for c in C:\n",
        "    clf_lr = LogisticRegression(C = c, max_iter=100_000) # training the regressin and passing 'c' as a pramater\n",
        "    clf_lr.fit(X_train, y_train)\n",
        "\n",
        "    # estimate y_hat\n",
        "    y_trainPred = clf_lr.predict(X_train)\n",
        "    y_valPred = clf_lr.predict(X_validation)\n",
        "\n",
        "    tr_acc = accuracy_score(y_train, y_trainPred)\n",
        "    val_acc = accuracy_score(y_validation, y_valPred)\n",
        "\n",
        "    print(f\"LR. C= {c}.\\tTrain ACC: {tr_acc}\\tVal Acc: {val_acc}\")\n",
        "\n",
        "\n"
      ]
    },
    {
      "cell_type": "markdown",
      "source": [
        "## **The 30 most impactful tokens**\n",
        "\n",
        "Find the 30 most impactful tokens based on their absolute coefficient values. These words have the strongest influence on predictions—whether positively or negatively. I've printed them out alongside their weights to see which ones matter most."
      ],
      "metadata": {
        "id": "oNf-NyMZ_zGR"
      }
    },
    {
      "cell_type": "code",
      "execution_count": 13,
      "metadata": {
        "id": "B3aTlcxp9YCP",
        "outputId": "d4d85baa-9f1d-43d4-d17e-03fe2e773b62",
        "colab": {
          "base_uri": "https://localhost:8080/"
        }
      },
      "outputs": [
        {
          "output_type": "stream",
          "name": "stdout",
          "text": [
            "\n",
            "Top 30 most influential tokens:\n",
            "bad: -4.6420\n",
            "plot: -3.5543\n",
            "life: 3.1632\n",
            "see: 2.7355\n",
            "great: 2.2668\n",
            "well: 2.2419\n",
            "director: -2.2237\n",
            "most: 2.1938\n",
            "worst: -2.1628\n",
            "nothing: -2.0564\n",
            "at: -2.0282\n",
            "only: -1.9330\n",
            "will: 1.8654\n",
            "performance: 1.8213\n",
            "people: 1.8044\n",
            "seen: 1.7903\n",
            "boring: -1.7891\n",
            "why: -1.7092\n",
            "best: 1.6878\n",
            "script: -1.6627\n",
            "any: -1.6565\n",
            "fun: 1.6114\n",
            "very: 1.5806\n",
            "supposed: -1.5651\n",
            "this: -1.5485\n",
            "no: -1.5435\n",
            "many: 1.5178\n",
            "you: 1.4958\n",
            "quite: 1.4756\n",
            "true: 1.4580\n"
          ]
        }
      ],
      "source": [
        "import numpy as np\n",
        "\n",
        "# Get the learned coefficients from the trained model\n",
        "feature_names = vectorizer.get_feature_names_out()\n",
        "coefficients = clf_lr.coef_[0]  # LogisticRegression stores coefficients as a 2D array\n",
        "\n",
        "# Get the indices of the top 30 absolute coefficient values\n",
        "top_30_indices = np.argsort(np.abs(coefficients))[-30:]  # Get the last 30 (highest absolute values)\n",
        "\n",
        "# Print the top 30 most important words with their coefficients\n",
        "print(\"\\nTop 30 most influential tokens:\")\n",
        "for idx in reversed(top_30_indices):  # Reverse to get the largest first\n",
        "    print(f\"{feature_names[idx]}: {coefficients[idx]:.4f}\")\n"
      ]
    },
    {
      "cell_type": "markdown",
      "source": [
        "## **Final Evaluation on Test Data**\n",
        "\n",
        "Train the final model with the best C value from Stage 4, make predictions on the test set, and print the accuracy to see how well it generalizes."
      ],
      "metadata": {
        "id": "gYcWlGQIAMzg"
      }
    },
    {
      "cell_type": "code",
      "source": [
        "# Evaluate model performance on the \"Test Data\"\n",
        "\n",
        "# Choose the best C value (replace this with the best performing one from Stage 4)\n",
        "best_C = 1  # Example value, update it accordingly\n",
        "\n",
        "# Train final model with the best C\n",
        "final_model = LogisticRegression(C=best_C, max_iter=100_000)\n",
        "final_model.fit(X_train, y_train)\n",
        "\n",
        "# Predict on test set\n",
        "y_test_pred = final_model.predict(X_test)\n",
        "\n",
        "# Evaluate performance\n",
        "test_accuracy = accuracy_score(y_test, y_test_pred)\n",
        "print(f\"Final Test Accuracy: {test_accuracy}\")\n"
      ],
      "metadata": {
        "id": "rMp0d6AJDpRh",
        "outputId": "7cdafb3f-7786-4a54-86c5-60ca642a0d87",
        "colab": {
          "base_uri": "https://localhost:8080/"
        }
      },
      "execution_count": 15,
      "outputs": [
        {
          "output_type": "stream",
          "name": "stdout",
          "text": [
            "Final Test Accuracy: 0.8166666666666667\n"
          ]
        }
      ]
    }
  ],
  "metadata": {
    "colab": {
      "provenance": [],
      "include_colab_link": true
    },
    "kernelspec": {
      "display_name": "sentiment_analysis",
      "language": "python",
      "name": "python3"
    },
    "language_info": {
      "codemirror_mode": {
        "name": "ipython",
        "version": 3
      },
      "file_extension": ".py",
      "mimetype": "text/x-python",
      "name": "python",
      "nbconvert_exporter": "python",
      "pygments_lexer": "ipython3",
      "version": "3.12.0"
    }
  },
  "nbformat": 4,
  "nbformat_minor": 0
}