{
  "cells": [
    {
      "cell_type": "markdown",
      "metadata": {
        "id": "view-in-github",
        "colab_type": "text"
      },
      "source": [
        "<a href=\"https://colab.research.google.com/github/dawit-andargachew/AI-playground/blob/main/Sentiment%20Analysis/%5Bholdout%5D_Sentiment_Analysis.ipynb\" target=\"_parent\"><img src=\"https://colab.research.google.com/assets/colab-badge.svg\" alt=\"Open In Colab\"/></a>"
      ]
    },
    {
      "cell_type": "markdown",
      "metadata": {
        "id": "LxwU3b4jNe88"
      },
      "source": [
        "#Sentiment Analysis\n",
        "\n",
        "The dataset is described here: https://www.aclweb.org/anthology/P04-1035.pdf\n",
        "\n",
        "It is part of nltk, so it is convenient for us to use.\n",
        "\n",
        "The goal of this exercise is to build a first machine learning model using the tools that we have seen so far: choose how to preprocess the text, create a bag of words feature representation, train a model using an ML method of your choice.\n",
        "\n",
        "You need to use the following split for the data:\n",
        "\n",
        "*   test: 30% of the documents\n",
        "*   The rest of the documents will be split as\n",
        "    *   train: 75% of the documents\n",
        "    *   validation: 25% of the documents\n",
        "\n",
        "\n",
        "Use accuracy as evaluation measure."
      ]
    },
    {
      "cell_type": "code",
      "execution_count": 1,
      "metadata": {
        "id": "mloaRMsPWg0I"
      },
      "outputs": [],
      "source": [
        "import numpy as np\n",
        "import matplotlib.pyplot as plt\n",
        "\n",
        "from sklearn.linear_model import LogisticRegression\n",
        "from sklearn.metrics import accuracy_score"
      ]
    },
    {
      "cell_type": "markdown",
      "metadata": {
        "id": "vzBzTV8-nqJp"
      },
      "source": [
        "## Computing Vectorial Representations"
      ]
    },
    {
      "cell_type": "code",
      "execution_count": 2,
      "metadata": {
        "colab": {
          "base_uri": "https://localhost:8080/"
        },
        "id": "2VZ9ywJrtGAb",
        "outputId": "10432855-eb06-4a62-ab78-a1feaf4d50c1"
      },
      "outputs": [
        {
          "output_type": "stream",
          "name": "stdout",
          "text": [
            "Collecting en-core-web-sm==3.8.0\n",
            "  Downloading https://github.com/explosion/spacy-models/releases/download/en_core_web_sm-3.8.0/en_core_web_sm-3.8.0-py3-none-any.whl (12.8 MB)\n",
            "\u001b[2K     \u001b[90m━━━━━━━━━━━━━━━━━━━━━━━━━━━━━━━━━━━━━━━━\u001b[0m \u001b[32m12.8/12.8 MB\u001b[0m \u001b[31m49.4 MB/s\u001b[0m eta \u001b[36m0:00:00\u001b[0m\n",
            "\u001b[?25h\u001b[38;5;2m✔ Download and installation successful\u001b[0m\n",
            "You can now load the package via spacy.load('en_core_web_sm')\n",
            "\u001b[38;5;3m⚠ Restart to reload dependencies\u001b[0m\n",
            "If you are in a Jupyter or Colab notebook, you may need to restart Python in\n",
            "order to load all the package's dependencies. You can do this by selecting the\n",
            "'Restart kernel' or 'Restart runtime' option.\n"
          ]
        }
      ],
      "source": [
        "!python -m spacy download \"en_core_web_sm\""
      ]
    },
    {
      "cell_type": "code",
      "execution_count": 3,
      "metadata": {
        "colab": {
          "base_uri": "https://localhost:8080/"
        },
        "id": "EVI9mm47Du9z",
        "outputId": "4ced6611-ec39-4147-dd80-5694502b5ccb"
      },
      "outputs": [
        {
          "output_type": "stream",
          "name": "stderr",
          "text": [
            "[nltk_data] Downloading package movie_reviews to /root/nltk_data...\n",
            "[nltk_data]   Unzipping corpora/movie_reviews.zip.\n",
            "[nltk_data] Downloading package punkt to /root/nltk_data...\n",
            "[nltk_data]   Unzipping tokenizers/punkt.zip.\n"
          ]
        },
        {
          "output_type": "execute_result",
          "data": {
            "text/plain": [
              "True"
            ]
          },
          "metadata": {},
          "execution_count": 3
        }
      ],
      "source": [
        "import nltk\n",
        "nltk.download('movie_reviews') # loads the dataset\n",
        "nltk.download('punkt')\n",
        "#!python -m spacy download \"en_core_web_sm\"\n"
      ]
    },
    {
      "cell_type": "markdown",
      "metadata": {
        "id": "zplVPbgmclWr"
      },
      "source": [
        "## Loading the data\n",
        "In the following I extract the raw content of the reviews (movie_reviews.raw()), i.e. each review is a string.\n",
        "Another option is to use movie_reviews.words() that returns each review as a list of tokens. Feel free to use whichever best fit your needs.\n"
      ]
    },
    {
      "cell_type": "code",
      "execution_count": 4,
      "metadata": {
        "colab": {
          "base_uri": "https://localhost:8080/"
        },
        "collapsed": true,
        "id": "-y8LNMr-JdeJ",
        "outputId": "c0f9c6ad-8206-4f89-a2a3-f2ad3ce99575"
      },
      "outputs": [
        {
          "output_type": "stream",
          "name": "stdout",
          "text": [
            "number of docs loaded: 2000\n",
            "plot : two teen couples go to a church party , drink and then drive . \n",
            "they get into an accident . \n",
            "one of the guys dies , but his girlfriend continues to see him in her life , and has nightmares . \n",
            "what's the deal ? \n",
            "watch the movie and \" sorta \" find out . . . \n",
            "critique : a mind-fuck movie for the teen generation that touches on a very cool idea , but presents it in a very bad package . \n",
            "which is what makes this review an even harder one to write , since i generally applaud films which attempt to break the mold , mess with your head and such ( lost highway & memento ) , but there are good and bad ways of making all types of films , and these folks just didn't snag this one correctly . \n",
            "they seem to have taken this pretty neat concept , but executed it terribly . \n",
            "so what are the problems with the movie ? \n",
            "well , its main problem is that it's simply too jumbled . \n",
            "it starts off \" normal \" but then downshifts into this \" fantasy \" world in which you , as an audience member , have no idea what's going on . \n",
            "there are dreams , there are characters coming back from the dead , there are others who look like the dead , there are strange apparitions , there are disappearances , there are a looooot of chase scenes , there are tons of weird things that happen , and most of it is simply not explained . \n",
            "now i personally don't mind trying to unravel a film every now and then , but when all it does is give me the same clue over and over again , i get kind of fed up after a while , which is this film's biggest problem . \n",
            "it's obviously got this big secret to hide , but it seems to want to hide it completely until its final five minutes . \n",
            "and do they make things entertaining , thrilling or even engaging , in the meantime ? \n",
            "not really . \n",
            "the sad part is that the arrow and i both dig on flicks like this , so we actually figured most of it out by the half-way point , so all of the strangeness after that did start to make a little bit of sense , but it still didn't the make the film all that more entertaining . \n",
            "i guess the bottom line with movies like this is that you should always make sure that the audience is \" into it \" even before they are given the secret password to enter your world of understanding . \n",
            "i mean , showing melissa sagemiller running away from visions for about 20 minutes throughout the movie is just plain lazy ! ! \n",
            "okay , we get it . . . there \n",
            "are people chasing her and we don't know who they are . \n",
            "do we really need to see it over and over again ? \n",
            "how about giving us different scenes offering further insight into all of the strangeness going down in the movie ? \n",
            "apparently , the studio took this film away from its director and chopped it up themselves , and it shows . \n",
            "there might've been a pretty decent teen mind-fuck movie in here somewhere , but i guess \" the suits \" decided that turning it into a music video with little edge , would make more sense . \n",
            "the actors are pretty good for the most part , although wes bentley just seemed to be playing the exact same character that he did in american beauty , only in a new neighborhood . \n",
            "but my biggest kudos go out to sagemiller , who holds her own throughout the entire film , and actually has you feeling her character's unraveling . \n",
            "overall , the film doesn't stick because it doesn't entertain , it's confusing , it rarely excites and it feels pretty redundant for most of its runtime , despite a pretty cool ending and explanation to all of the craziness that came before it . \n",
            "oh , and by the way , this is not a horror or teen slasher flick . . . it's \n",
            "just packaged to look that way because someone is apparently assuming that the genre is still hot with the kids . \n",
            "it also wrapped production two years ago and has been sitting on the shelves ever since . \n",
            "whatever . . . skip \n",
            "it ! \n",
            "where's joblo coming from ? \n",
            "a nightmare of elm street 3 ( 7/10 ) - blair witch 2 ( 7/10 ) - the crow ( 9/10 ) - the crow : salvation ( 4/10 ) - lost highway ( 10/10 ) - memento ( 10/10 ) - the others ( 9/10 ) - stir of echoes ( 8/10 ) \n",
            "\n",
            "neg\n"
          ]
        }
      ],
      "source": [
        "from nltk.corpus import movie_reviews\n",
        "import random\n",
        "import spacy\n",
        "from scipy.sparse import coo_matrix, vstack\n",
        "import matplotlib.pyplot as plt\n",
        "from sklearn.linear_model import LogisticRegression\n",
        "from sklearn.feature_extraction.text import CountVectorizer\n",
        "from sklearn.model_selection import train_test_split\n",
        "from sklearn.feature_extraction.text import CountVectorizer\n",
        "\n",
        "nlp_en = spacy.load(\"en_core_web_sm\", disable=['ner', 'parser'])\n",
        "\n",
        "documents = [(movie_reviews.raw(fileid), category)\n",
        "              for category in movie_reviews.categories()\n",
        "              for fileid in movie_reviews.fileids(category)]\n",
        "\n",
        "print(\"number of docs loaded:\", len(documents))\n",
        "\n",
        "corpus = [ x[0] for x in documents ] # the list of text\n",
        "y_corpus = [ x[1] for x in documents ] # teh corresponding lables - the sentiment for each text\n",
        "print(corpus[0])\n",
        "print(y_corpus[0])\n",
        "\n",
        "random.seed(42)\n"
      ]
    },
    {
      "cell_type": "markdown",
      "metadata": {
        "id": "SMBhcMfLuxrl"
      },
      "source": [
        "## Exercise\n",
        "\n",
        "Create a vectorial representation of the data, then apply a learning algorithm by optimising the hyperparameters on the dev set. If you need to use any function that depends on random number generators, use 42 as seed.\n",
        "Test several representations. You may try functions of the libraries we have seen in class or make your own vectorial representation from scratch.\n",
        "Once you have selected the best hyperparameters and preprocessing, retrain your model on the union of the training and validation sets, then compute the accuracy on the test set.\n",
        "\n",
        "Report your test performance on Moodle. In Moodle you are also supposed to upload the notebook in .py format (Menu File->Download->Download .py)\n",
        "In the file with your code motivate any significant choice you made and all different preprocessing you attempted (clearly highlight the best one, though).\n",
        "\n",
        "**Bonus Exercise** for your best model, print the 30 tokens whose corresponding parameter have highest absolute value. What do you think of this list? Does it make sense? Are all tokens expected?\n"
      ]
    },
    {
      "cell_type": "markdown",
      "metadata": {
        "id": "60nbmv1bxoNQ"
      },
      "source": [
        "## vectorize the data since it is text\n",
        "\n",
        "### it is better to vectorie the whole corups before splitting the data. and shuffling while splitting is a good use of thumb.\n",
        "\n",
        "## vectorizing the data after splitting might be problematic since the ordor might got changed and is misleading"
      ]
    },
    {
      "cell_type": "code",
      "execution_count": null,
      "metadata": {
        "colab": {
          "base_uri": "https://localhost:8080/"
        },
        "id": "2xYyA3Qvxj28",
        "outputId": "18633e70-e1de-44ed-cf9a-d765919589f3"
      },
      "outputs": [
        {
          "output_type": "stream",
          "name": "stderr",
          "text": [
            "/usr/local/lib/python3.11/dist-packages/sklearn/feature_extraction/text.py:517: UserWarning: The parameter 'token_pattern' will not be used since 'tokenizer' is not None'\n",
            "  warnings.warn(\n"
          ]
        }
      ],
      "source": [
        "#---------------------- STAGE-1: preprocessing\n",
        "\n",
        "# Load NLP model\n",
        "nlp_en = spacy.load(\"en_core_web_sm\", disable=['ner', 'parser'])\n",
        "\n",
        "# Define custom tokenizer\n",
        "def spacy_tokenizer(text):\n",
        "    return [token.text for token in nlp_en(text)]\n",
        "\n",
        "# Split data BEFORE vectorizing\n",
        "X_train_corpus, X_test_corpus, y_train, y_test = train_test_split(\n",
        "    corpus, y_corpus, train_size=0.70, random_state=42\n",
        ")\n",
        "\n",
        "# Use SPACY vectorizer\n",
        "vectorizer = CountVectorizer(binary=False, tokenizer=spacy_tokenizer)\n",
        "\n",
        "# Fit on training data only\n",
        "vectorizer.fit(X_train_corpus)\n",
        "\n",
        "# Transform train and test data\n",
        "X_train = vectorizer.transform(X_train_corpus)\n",
        "X_test = vectorizer.transform(X_test_corpus)\n",
        "\n",
        "# Print some details\n",
        "print(\"Vocabulary size:\", len(vectorizer.get_feature_names_out()))\n",
        "print(\"Train shape:\", X_train.shape)\n",
        "print(\"Test shape:\", X_test.shape)\n",
        "\n",
        "\n",
        "#---------------------- STAGE-2: fitting the data on the model phase\n",
        "\n",
        "# split the training data\n",
        "X_train, X_validation, y_train, y_validation = train_test_split(X_train, y_train, train_size = 0.75, random_state=42) # split 75%\n",
        "y_train = np.array(y_train)\n",
        "y_validation = np.array(y_validation)\n",
        "\n",
        "clf_lr = LogisticRegression(max_iter=100_000)\n",
        "\n",
        "# fit the daa\n",
        "clf_lr.fit(X_train, y_train)\n",
        "\n",
        "#---------------------- STAGE-3: Prediction stage on the validation set\n",
        "\n",
        "y_trainPred = clf_lr.predict(X_train)\n",
        "y_validation_Pred = clf_lr.predict(X_validation)\n",
        "\n",
        "# with out lambda - reguralization parameter\n",
        "print(accuracy_score(y_train, y_trainPred))\n",
        "print(accuracy_score(y_validation, y_validation_Pred))"
      ]
    },
    {
      "cell_type": "code",
      "execution_count": null,
      "metadata": {
        "id": "AO3fZnNuIxwU"
      },
      "outputs": [],
      "source": [
        "# print train data sizes\n",
        "print(\"x: \",X_train.shape)\n",
        "print(\"y: \",y_trainPred.shape)\n",
        "\n",
        "# y_hat values\n",
        "print(\"x: \", X_validation.shape)\n",
        "print(\"y: \", y_validation_Pred.shape)"
      ]
    },
    {
      "cell_type": "code",
      "execution_count": null,
      "metadata": {
        "id": "BXDGTabnyVVb"
      },
      "outputs": [],
      "source": [
        "#---------------------- STAGE-4: Traingin with lambda - reguralization\n",
        "C = [0.001, 0.01, 0.02, 0.022, 0.024, 0.27, 0.03, 0.1, 1, 1.02, 1.1, 1.2, 30, 98, 99, 100, 150, 200, 250, 300, 350, 1000, 2000, 3000]\n",
        "\n",
        "\n",
        "for c in C:\n",
        "    clf_lr = LogisticRegression(C = c, max_iter=100_000) # training the regressin and passing 'c' as a pramater\n",
        "    clf_lr.fit(X_train, y_train)\n",
        "\n",
        "    # estimate y_hat\n",
        "    y_trainPred = clf_lr.predict(X_train)\n",
        "    y_valPred = clf_lr.predict(X_validation)\n",
        "\n",
        "    tr_acc = accuracy_score(y_train, y_trainPred)\n",
        "    val_acc = accuracy_score(y_validation, y_valPred)\n",
        "\n",
        "    print(f\"LR. C= {c}.\\tTrain ACC: {tr_acc}\\tVal Acc: {val_acc}\")\n",
        "\n",
        "\n"
      ]
    },
    {
      "cell_type": "code",
      "execution_count": null,
      "metadata": {
        "id": "B3aTlcxp9YCP"
      },
      "outputs": [],
      "source": [
        "import numpy as np\n",
        "\n",
        "# Get the learned coefficients from the trained model\n",
        "feature_names = vectorizer.get_feature_names_out()\n",
        "coefficients = clf_lr.coef_[0]  # LogisticRegression stores coefficients as a 2D array\n",
        "\n",
        "# Get the indices of the top 30 absolute coefficient values\n",
        "top_30_indices = np.argsort(np.abs(coefficients))[-30:]  # Get the last 30 (highest absolute values)\n",
        "\n",
        "# Print the top 30 most important words with their coefficients\n",
        "print(\"\\nTop 30 most influential tokens:\")\n",
        "for idx in reversed(top_30_indices):  # Reverse to get the largest first\n",
        "    print(f\"{feature_names[idx]}: {coefficients[idx]:.4f}\")\n"
      ]
    },
    {
      "cell_type": "code",
      "source": [
        "# testing on the \"Test Data\"\n",
        "\n",
        "# Choose the best C value (replace this with the best performing one from Stage 4)\n",
        "best_C = 1000  # Example value, update it accordingly\n",
        "\n",
        "# Train final model with the best C\n",
        "final_model = LogisticRegression(C=best_C, max_iter=100_000)\n",
        "final_model.fit(X_train, y_train)\n",
        "\n",
        "# Predict on test set\n",
        "y_test_pred = final_model.predict(X_test)\n",
        "\n",
        "# Evaluate performance\n",
        "test_accuracy = accuracy_score(y_test, y_test_pred)\n",
        "print(f\"Final Test Accuracy: {test_accuracy}\")\n"
      ],
      "metadata": {
        "id": "rMp0d6AJDpRh"
      },
      "execution_count": null,
      "outputs": []
    }
  ],
  "metadata": {
    "colab": {
      "provenance": [],
      "include_colab_link": true
    },
    "kernelspec": {
      "display_name": "sentiment_analysis",
      "language": "python",
      "name": "python3"
    },
    "language_info": {
      "codemirror_mode": {
        "name": "ipython",
        "version": 3
      },
      "file_extension": ".py",
      "mimetype": "text/x-python",
      "name": "python",
      "nbconvert_exporter": "python",
      "pygments_lexer": "ipython3",
      "version": "3.12.0"
    }
  },
  "nbformat": 4,
  "nbformat_minor": 0
}